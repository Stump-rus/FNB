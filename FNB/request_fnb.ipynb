{
 "cells": [
  {
   "attachments": {},
   "cell_type": "markdown",
   "metadata": {},
   "source": [
    "Scrapping data from the minfin.gov website"
   ]
  },
  {
   "cell_type": "code",
   "execution_count": 25,
   "metadata": {},
   "outputs": [
    {
     "name": "stdout",
     "output_type": "stream",
     "text": [
      "Data downloaded\n"
     ]
    }
   ],
   "source": [
    "import pandas as pd\n",
    "from urllib.request import Request, urlopen\n",
    "import warnings\n",
    "warnings.filterwarnings('ignore')\n",
    "\n",
    "req = Request(url='https://minfin.gov.ru/ru/perfomance/nationalwealthfund/statistics?id_57=27068-obem_fonda_natsionalnogo_blagosostoyaniya', headers={'User-Agent': 'Mozilla/5.0'})\n",
    "webpage = urlopen(req).read()\n",
    "df_list = pd.read_html(webpage)\n",
    "df = pd.DataFrame(df_list[0])\n",
    "df = df.rename(columns={df.columns[0]: \"Date\", df.columns[1]: \"amount_blnUSD\",df.columns[2]: 'amount_blnRUB'})\n",
    "df = df.drop(columns=df.columns[3])\n",
    "df['amount_blnRUB'] = df['amount_blnRUB'].str.replace(r'\\D+', '')\n",
    "df['amount_blnRUB'] = df['amount_blnRUB'].astype(int) / 100\n",
    "df['amount_blnUSD'] = df['amount_blnUSD'].astype(int) / 100\n",
    "df['Date'] = pd.to_datetime(df['Date'])\n",
    "print('Data downloaded')"
   ]
  },
  {
   "attachments": {},
   "cell_type": "markdown",
   "metadata": {},
   "source": [
    "Saving data into CSV file"
   ]
  },
  {
   "cell_type": "code",
   "execution_count": 26,
   "metadata": {},
   "outputs": [
    {
     "name": "stdout",
     "output_type": "stream",
     "text": [
      "CSV file saved\n"
     ]
    }
   ],
   "source": [
    "from pathlib import Path  \n",
    "\n",
    "filepath = Path('C:/Users/lenovo/python/FNB/fnb.csv')  \n",
    "filepath.parent.mkdir(parents=True, exist_ok=True)  \n",
    "df.to_csv(filepath)\n",
    "print('CSV file saved')"
   ]
  },
  {
   "attachments": {},
   "cell_type": "markdown",
   "metadata": {},
   "source": [
    "Plotting the data"
   ]
  },
  {
   "cell_type": "code",
   "execution_count": 32,
   "metadata": {},
   "outputs": [
    {
     "data": {
      "text/html": [
       "\n",
       "<div id=\"altair-viz-5b40c27ed40748358e2ecf4f6bbdbd68\"></div>\n",
       "<script type=\"text/javascript\">\n",
       "  var VEGA_DEBUG = (typeof VEGA_DEBUG == \"undefined\") ? {} : VEGA_DEBUG;\n",
       "  (function(spec, embedOpt){\n",
       "    let outputDiv = document.currentScript.previousElementSibling;\n",
       "    if (outputDiv.id !== \"altair-viz-5b40c27ed40748358e2ecf4f6bbdbd68\") {\n",
       "      outputDiv = document.getElementById(\"altair-viz-5b40c27ed40748358e2ecf4f6bbdbd68\");\n",
       "    }\n",
       "    const paths = {\n",
       "      \"vega\": \"https://cdn.jsdelivr.net/npm//vega@5?noext\",\n",
       "      \"vega-lib\": \"https://cdn.jsdelivr.net/npm//vega-lib?noext\",\n",
       "      \"vega-lite\": \"https://cdn.jsdelivr.net/npm//vega-lite@4.17.0?noext\",\n",
       "      \"vega-embed\": \"https://cdn.jsdelivr.net/npm//vega-embed@6?noext\",\n",
       "    };\n",
       "\n",
       "    function maybeLoadScript(lib, version) {\n",
       "      var key = `${lib.replace(\"-\", \"\")}_version`;\n",
       "      return (VEGA_DEBUG[key] == version) ?\n",
       "        Promise.resolve(paths[lib]) :\n",
       "        new Promise(function(resolve, reject) {\n",
       "          var s = document.createElement('script');\n",
       "          document.getElementsByTagName(\"head\")[0].appendChild(s);\n",
       "          s.async = true;\n",
       "          s.onload = () => {\n",
       "            VEGA_DEBUG[key] = version;\n",
       "            return resolve(paths[lib]);\n",
       "          };\n",
       "          s.onerror = () => reject(`Error loading script: ${paths[lib]}`);\n",
       "          s.src = paths[lib];\n",
       "        });\n",
       "    }\n",
       "\n",
       "    function showError(err) {\n",
       "      outputDiv.innerHTML = `<div class=\"error\" style=\"color:red;\">${err}</div>`;\n",
       "      throw err;\n",
       "    }\n",
       "\n",
       "    function displayChart(vegaEmbed) {\n",
       "      vegaEmbed(outputDiv, spec, embedOpt)\n",
       "        .catch(err => showError(`Javascript Error: ${err.message}<br>This usually means there's a typo in your chart specification. See the javascript console for the full traceback.`));\n",
       "    }\n",
       "\n",
       "    if(typeof define === \"function\" && define.amd) {\n",
       "      requirejs.config({paths});\n",
       "      require([\"vega-embed\"], displayChart, err => showError(`Error loading script: ${err.message}`));\n",
       "    } else {\n",
       "      maybeLoadScript(\"vega\", \"5\")\n",
       "        .then(() => maybeLoadScript(\"vega-lite\", \"4.17.0\"))\n",
       "        .then(() => maybeLoadScript(\"vega-embed\", \"6\"))\n",
       "        .catch(showError)\n",
       "        .then(() => displayChart(vegaEmbed));\n",
       "    }\n",
       "  })({\"config\": {\"view\": {\"continuousWidth\": 400, \"continuousHeight\": 300}}, \"data\": {\"name\": \"data-6cee4a1dde0e5b56786a2dc02274db7c\"}, \"mark\": {\"type\": \"line\", \"point\": true}, \"encoding\": {\"x\": {\"field\": \"Date\", \"type\": \"nominal\"}, \"y\": {\"field\": \"amount_blnUSD\", \"type\": \"quantitative\"}}, \"$schema\": \"https://vega.github.io/schema/vega-lite/v4.17.0.json\", \"datasets\": {\"data-6cee4a1dde0e5b56786a2dc02274db7c\": [{\"Date\": \"2023-01-02T00:00:00\", \"amount_blnUSD\": 155.3, \"amount_blnRUB\": 10807.6}, {\"Date\": \"2023-01-01T00:00:00\", \"amount_blnUSD\": 148.35, \"amount_blnRUB\": 10434.58}, {\"Date\": \"2022-01-12T00:00:00\", \"amount_blnUSD\": 186.49, \"amount_blnRUB\": 11389.51}, {\"Date\": \"2022-01-11T00:00:00\", \"amount_blnUSD\": 184.84, \"amount_blnRUB\": 11374.08}, {\"Date\": \"2022-01-10T00:00:00\", \"amount_blnUSD\": 187.97, \"amount_blnRUB\": 10792.19}, {\"Date\": \"2022-01-09T00:00:00\", \"amount_blnUSD\": 196.63, \"amount_blnRUB\": 11869.9}, {\"Date\": \"2022-01-08T00:00:00\", \"amount_blnUSD\": 198.27, \"amount_blnRUB\": 12155.89}, {\"Date\": \"2022-01-07T00:00:00\", \"amount_blnUSD\": 210.62, \"amount_blnRUB\": 10774.98}, {\"Date\": \"2022-01-06T00:00:00\", \"amount_blnUSD\": 197.72, \"amount_blnRUB\": 12475.93}, {\"Date\": \"2022-01-05T00:00:00\", \"amount_blnUSD\": 154.95, \"amount_blnRUB\": 11005.37}, {\"Date\": \"2022-01-04T00:00:00\", \"amount_blnUSD\": 155.23, \"amount_blnRUB\": 13052.3}, {\"Date\": \"2022-01-03T00:00:00\", \"amount_blnUSD\": 154.82, \"amount_blnRUB\": 12935.11}, {\"Date\": \"2022-01-02T00:00:00\", \"amount_blnUSD\": 174.9, \"amount_blnRUB\": 13610.27}, {\"Date\": \"2022-01-01T00:00:00\", \"amount_blnUSD\": 182.59, \"amount_blnRUB\": 13565.35}, {\"Date\": \"2021-01-12T00:00:00\", \"amount_blnUSD\": 185.2, \"amount_blnRUB\": 13886.33}, {\"Date\": \"2021-01-11T00:00:00\", \"amount_blnUSD\": 197.75, \"amount_blnRUB\": 13945.07}, {\"Date\": \"2021-01-10T00:00:00\", \"amount_blnUSD\": 191.02, \"amount_blnRUB\": 13898.52}, {\"Date\": \"2021-01-09T00:00:00\", \"amount_blnUSD\": 190.51, \"amount_blnRUB\": 14016.99}, {\"Date\": \"2021-01-08T00:00:00\", \"amount_blnUSD\": 188.1, \"amount_blnRUB\": 13757.05}, {\"Date\": \"2021-01-07T00:00:00\", \"amount_blnUSD\": 187.57, \"amount_blnRUB\": 13574.58}, {\"Date\": \"2021-01-06T00:00:00\", \"amount_blnUSD\": 189.41, \"amount_blnRUB\": 13938.08}, {\"Date\": \"2021-01-05T00:00:00\", \"amount_blnUSD\": 185.87, \"amount_blnRUB\": 13825.43}, {\"Date\": \"2021-01-04T00:00:00\", \"amount_blnUSD\": 182.32, \"amount_blnRUB\": 13802.12}, {\"Date\": \"2021-01-03T00:00:00\", \"amount_blnUSD\": 182.06, \"amount_blnRUB\": 13552.05}, {\"Date\": \"2021-01-02T00:00:00\", \"amount_blnUSD\": 179.0, \"amount_blnRUB\": 13649.3}, {\"Date\": \"2021-01-01T00:00:00\", \"amount_blnUSD\": 183.36, \"amount_blnRUB\": 13545.66}, {\"Date\": \"2020-01-12T00:00:00\", \"amount_blnUSD\": 177.39, \"amount_blnRUB\": 13457.02}, {\"Date\": \"2020-01-11T00:00:00\", \"amount_blnUSD\": 167.63, \"amount_blnRUB\": 13298.63}, {\"Date\": \"2020-01-10T00:00:00\", \"amount_blnUSD\": 172.34, \"amount_blnRUB\": 13733.05}, {\"Date\": \"2020-01-09T00:00:00\", \"amount_blnUSD\": 177.61, \"amount_blnRUB\": 13256.66}, {\"Date\": \"2020-01-08T00:00:00\", \"amount_blnUSD\": 176.64, \"amount_blnRUB\": 12958.68}, {\"Date\": \"2020-01-07T00:00:00\", \"amount_blnUSD\": 173.54, \"amount_blnRUB\": 12139.6}, {\"Date\": \"2020-01-06T00:00:00\", \"amount_blnUSD\": 171.89, \"amount_blnRUB\": 12161.48}, {\"Date\": \"2020-01-05T00:00:00\", \"amount_blnUSD\": 168.35, \"amount_blnRUB\": 12405.77}, {\"Date\": \"2020-01-04T00:00:00\", \"amount_blnUSD\": 165.38, \"amount_blnRUB\": 12855.75}, {\"Date\": \"2020-01-03T00:00:00\", \"amount_blnUSD\": 123.14, \"amount_blnRUB\": 8249.59}, {\"Date\": \"2020-01-02T00:00:00\", \"amount_blnUSD\": 124.38, \"amount_blnRUB\": 7840.55}, {\"Date\": \"2020-01-01T00:00:00\", \"amount_blnUSD\": 125.56, \"amount_blnRUB\": 7773.06}, {\"Date\": \"2019-01-12T00:00:00\", \"amount_blnUSD\": 124.0, \"amount_blnRUB\": 7946.22}, {\"Date\": \"2019-01-11T00:00:00\", \"amount_blnUSD\": 124.46, \"amount_blnRUB\": 7949.61}, {\"Date\": \"2019-01-10T00:00:00\", \"amount_blnUSD\": 123.07, \"amount_blnRUB\": 7927.69}, {\"Date\": \"2019-01-09T00:00:00\", \"amount_blnUSD\": 122.88, \"amount_blnRUB\": 8170.49}, {\"Date\": \"2019-01-08T00:00:00\", \"amount_blnUSD\": 124.14, \"amount_blnRUB\": 7867.7}, {\"Date\": \"2019-01-07T00:00:00\", \"amount_blnUSD\": 59.66, \"amount_blnRUB\": 3762.96}, {\"Date\": \"2019-01-06T00:00:00\", \"amount_blnUSD\": 58.74, \"amount_blnRUB\": 3821.72}, {\"Date\": \"2019-01-05T00:00:00\", \"amount_blnUSD\": 58.96, \"amount_blnRUB\": 3814.44}, {\"Date\": \"2019-01-04T00:00:00\", \"amount_blnUSD\": 59.14, \"amount_blnRUB\": 3828.25}, {\"Date\": \"2019-01-03T00:00:00\", \"amount_blnUSD\": 59.13, \"amount_blnRUB\": 3887.88}, {\"Date\": \"2019-01-02T00:00:00\", \"amount_blnUSD\": 59.06, \"amount_blnRUB\": 3903.5}, {\"Date\": \"2019-01-01T00:00:00\", \"amount_blnUSD\": 58.1, \"amount_blnRUB\": 4036.05}, {\"Date\": \"2018-01-12T00:00:00\", \"amount_blnUSD\": 68.55, \"amount_blnRUB\": 4567.75}, {\"Date\": \"2018-01-11T00:00:00\", \"amount_blnUSD\": 75.6, \"amount_blnRUB\": 4972.45}, {\"Date\": \"2018-01-10T00:00:00\", \"amount_blnUSD\": 76.3, \"amount_blnRUB\": 5004.49}, {\"Date\": \"2018-01-09T00:00:00\", \"amount_blnUSD\": 75.79, \"amount_blnRUB\": 5160.28}, {\"Date\": \"2018-01-08T00:00:00\", \"amount_blnUSD\": 77.16, \"amount_blnRUB\": 4844.38}, {\"Date\": \"2018-01-07T00:00:00\", \"amount_blnUSD\": 77.11, \"amount_blnRUB\": 4839.26}, {\"Date\": \"2018-01-06T00:00:00\", \"amount_blnUSD\": 62.75, \"amount_blnRUB\": 3927.58}, {\"Date\": \"2018-01-05T00:00:00\", \"amount_blnUSD\": 63.91, \"amount_blnRUB\": 3962.67}, {\"Date\": \"2018-01-04T00:00:00\", \"amount_blnUSD\": 65.88, \"amount_blnRUB\": 3772.83}, {\"Date\": \"2018-01-03T00:00:00\", \"amount_blnUSD\": 66.44, \"amount_blnRUB\": 3698.96}, {\"Date\": \"2018-01-02T00:00:00\", \"amount_blnUSD\": 66.26, \"amount_blnRUB\": 3729.71}, {\"Date\": \"2018-01-01T00:00:00\", \"amount_blnUSD\": 65.15, \"amount_blnRUB\": 3752.94}, {\"Date\": \"2017-01-12T00:00:00\", \"amount_blnUSD\": 66.94, \"amount_blnRUB\": 3904.76}, {\"Date\": \"2017-01-11T00:00:00\", \"amount_blnUSD\": 69.36, \"amount_blnRUB\": 4013.81}, {\"Date\": \"2017-01-10T00:00:00\", \"amount_blnUSD\": 72.57, \"amount_blnRUB\": 4210.36}, {\"Date\": \"2017-01-09T00:00:00\", \"amount_blnUSD\": 75.36, \"amount_blnRUB\": 4425.68}, {\"Date\": \"2017-01-08T00:00:00\", \"amount_blnUSD\": 74.72, \"amount_blnRUB\": 4449.35}, {\"Date\": \"2017-01-07T00:00:00\", \"amount_blnUSD\": 74.22, \"amount_blnRUB\": 4385.49}, {\"Date\": \"2017-01-06T00:00:00\", \"amount_blnUSD\": 74.18, \"amount_blnRUB\": 4192.3}, {\"Date\": \"2017-01-05T00:00:00\", \"amount_blnUSD\": 73.57, \"amount_blnRUB\": 4192.5}, {\"Date\": \"2017-01-04T00:00:00\", \"amount_blnUSD\": 73.33, \"amount_blnRUB\": 4134.27}, {\"Date\": \"2017-01-03T00:00:00\", \"amount_blnUSD\": 72.6, \"amount_blnRUB\": 4206.38}, {\"Date\": \"2017-01-02T00:00:00\", \"amount_blnUSD\": 72.46, \"amount_blnRUB\": 4359.3}, {\"Date\": \"2017-01-01T00:00:00\", \"amount_blnUSD\": 71.87, \"amount_blnRUB\": 4359.16}, {\"Date\": \"2016-01-12T00:00:00\", \"amount_blnUSD\": 71.26, \"amount_blnRUB\": 4628.09}, {\"Date\": \"2016-01-11T00:00:00\", \"amount_blnUSD\": 72.2, \"amount_blnRUB\": 4541.93}, {\"Date\": \"2016-01-10T00:00:00\", \"amount_blnUSD\": 73.11, \"amount_blnRUB\": 4617.54}, {\"Date\": \"2016-01-09T00:00:00\", \"amount_blnUSD\": 72.71, \"amount_blnRUB\": 4719.17}, {\"Date\": \"2016-01-08T00:00:00\", \"amount_blnUSD\": 72.21, \"amount_blnRUB\": 4842.0}, {\"Date\": \"2016-01-07T00:00:00\", \"amount_blnUSD\": 72.76, \"amount_blnRUB\": 4675.36}, {\"Date\": \"2016-01-06T00:00:00\", \"amount_blnUSD\": 72.99, \"amount_blnRUB\": 4823.19}, {\"Date\": \"2016-01-05T00:00:00\", \"amount_blnUSD\": 73.86, \"amount_blnRUB\": 4751.69}, {\"Date\": \"2016-01-04T00:00:00\", \"amount_blnUSD\": 73.18, \"amount_blnRUB\": 4947.33}, {\"Date\": \"2016-01-03T00:00:00\", \"amount_blnUSD\": 71.34, \"amount_blnRUB\": 5356.96}, {\"Date\": \"2016-01-02T00:00:00\", \"amount_blnUSD\": 71.15, \"amount_blnRUB\": 5348.66}, {\"Date\": \"2016-01-01T00:00:00\", \"amount_blnUSD\": 71.72, \"amount_blnRUB\": 5227.18}, {\"Date\": \"2015-01-12T00:00:00\", \"amount_blnUSD\": 72.22, \"amount_blnRUB\": 4784.05}, {\"Date\": \"2015-01-11T00:00:00\", \"amount_blnUSD\": 73.45, \"amount_blnRUB\": 4728.39}, {\"Date\": \"2015-01-10T00:00:00\", \"amount_blnUSD\": 73.66, \"amount_blnRUB\": 4878.8}, {\"Date\": \"2015-01-09T00:00:00\", \"amount_blnUSD\": 73.76, \"amount_blnRUB\": 4903.67}, {\"Date\": \"2015-01-08T00:00:00\", \"amount_blnUSD\": 74.56, \"amount_blnRUB\": 4398.15}, {\"Date\": \"2015-01-07T00:00:00\", \"amount_blnUSD\": 75.65, \"amount_blnRUB\": 4200.53}, {\"Date\": \"2015-01-06T00:00:00\", \"amount_blnUSD\": 75.86, \"amount_blnRUB\": 4018.51}, {\"Date\": \"2015-01-05T00:00:00\", \"amount_blnUSD\": 76.33, \"amount_blnRUB\": 3946.42}, {\"Date\": \"2015-01-04T00:00:00\", \"amount_blnUSD\": 74.35, \"amount_blnRUB\": 4346.94}, {\"Date\": \"2015-01-03T00:00:00\", \"amount_blnUSD\": 74.92, \"amount_blnRUB\": 4590.59}, {\"Date\": \"2015-01-02T00:00:00\", \"amount_blnUSD\": 74.02, \"amount_blnRUB\": 5101.83}, {\"Date\": \"2015-01-01T00:00:00\", \"amount_blnUSD\": 78.0, \"amount_blnRUB\": 4388.09}, {\"Date\": \"2014-01-12T00:00:00\", \"amount_blnUSD\": 79.97, \"amount_blnRUB\": 3944.12}, {\"Date\": \"2014-01-11T00:00:00\", \"amount_blnUSD\": 81.74, \"amount_blnRUB\": 3547.02}, {\"Date\": \"2014-01-10T00:00:00\", \"amount_blnUSD\": 83.2, \"amount_blnRUB\": 3276.79}, {\"Date\": \"2014-01-09T00:00:00\", \"amount_blnUSD\": 85.31, \"amount_blnRUB\": 3150.5}, {\"Date\": \"2014-01-08T00:00:00\", \"amount_blnUSD\": 86.46, \"amount_blnRUB\": 3088.79}, {\"Date\": \"2014-01-07T00:00:00\", \"amount_blnUSD\": 87.94, \"amount_blnRUB\": 2957.38}, {\"Date\": \"2014-01-06T00:00:00\", \"amount_blnUSD\": 87.32, \"amount_blnRUB\": 3033.17}, {\"Date\": \"2014-01-05T00:00:00\", \"amount_blnUSD\": 87.62, \"amount_blnRUB\": 3127.94}, {\"Date\": \"2014-01-04T00:00:00\", \"amount_blnUSD\": 87.5, \"amount_blnRUB\": 3122.51}, {\"Date\": \"2014-01-03T00:00:00\", \"amount_blnUSD\": 87.25, \"amount_blnRUB\": 3145.34}, {\"Date\": \"2014-01-02T00:00:00\", \"amount_blnUSD\": 87.39, \"amount_blnRUB\": 3079.94}, {\"Date\": \"2014-01-01T00:00:00\", \"amount_blnUSD\": 88.63, \"amount_blnRUB\": 2900.64}, {\"Date\": \"2013-01-12T00:00:00\", \"amount_blnUSD\": 88.06, \"amount_blnRUB\": 2922.79}, {\"Date\": \"2013-01-11T00:00:00\", \"amount_blnUSD\": 88.74, \"amount_blnRUB\": 2845.19}, {\"Date\": \"2013-01-10T00:00:00\", \"amount_blnUSD\": 88.03, \"amount_blnRUB\": 2847.35}, {\"Date\": \"2013-01-09T00:00:00\", \"amount_blnUSD\": 86.77, \"amount_blnRUB\": 2884.79}, {\"Date\": \"2013-01-08T00:00:00\", \"amount_blnUSD\": 86.9, \"amount_blnRUB\": 2858.04}, {\"Date\": \"2013-01-07T00:00:00\", \"amount_blnUSD\": 86.47, \"amount_blnRUB\": 2828.23}, {\"Date\": \"2013-01-06T00:00:00\", \"amount_blnUSD\": 86.72, \"amount_blnRUB\": 2739.33}, {\"Date\": \"2013-01-05T00:00:00\", \"amount_blnUSD\": 87.27, \"amount_blnRUB\": 2727.79}, {\"Date\": \"2013-01-04T00:00:00\", \"amount_blnUSD\": 86.76, \"amount_blnRUB\": 2696.73}, {\"Date\": \"2013-01-03T00:00:00\", \"amount_blnUSD\": 87.61, \"amount_blnRUB\": 2682.58}, {\"Date\": \"2013-01-02T00:00:00\", \"amount_blnUSD\": 89.21, \"amount_blnRUB\": 2678.63}, {\"Date\": \"2013-01-01T00:00:00\", \"amount_blnUSD\": 88.59, \"amount_blnRUB\": 2690.63}, {\"Date\": \"2012-01-12T00:00:00\", \"amount_blnUSD\": 87.47, \"amount_blnRUB\": 2716.61}, {\"Date\": \"2012-01-11T00:00:00\", \"amount_blnUSD\": 87.19, \"amount_blnRUB\": 2748.67}, {\"Date\": \"2012-01-10T00:00:00\", \"amount_blnUSD\": 87.61, \"amount_blnRUB\": 2708.58}, {\"Date\": \"2012-01-09T00:00:00\", \"amount_blnUSD\": 85.85, \"amount_blnRUB\": 2772.45}, {\"Date\": \"2012-01-08T00:00:00\", \"amount_blnUSD\": 85.21, \"amount_blnRUB\": 2742.85}, {\"Date\": \"2012-01-07T00:00:00\", \"amount_blnUSD\": 85.64, \"amount_blnRUB\": 2810.45}, {\"Date\": \"2012-01-06T00:00:00\", \"amount_blnUSD\": 85.48, \"amount_blnRUB\": 2773.78}, {\"Date\": \"2012-01-05T00:00:00\", \"amount_blnUSD\": 89.21, \"amount_blnRUB\": 2619.52}, {\"Date\": \"2012-01-04T00:00:00\", \"amount_blnUSD\": 89.5, \"amount_blnRUB\": 2624.78}, {\"Date\": \"2012-01-03T00:00:00\", \"amount_blnUSD\": 89.84, \"amount_blnRUB\": 2600.88}, {\"Date\": \"2012-01-02T00:00:00\", \"amount_blnUSD\": 88.33, \"amount_blnRUB\": 2682.21}, {\"Date\": \"2012-01-01T00:00:00\", \"amount_blnUSD\": 86.79, \"amount_blnRUB\": 2794.43}, {\"Date\": \"2011-01-12T00:00:00\", \"amount_blnUSD\": 88.26, \"amount_blnRUB\": 2764.4}, {\"Date\": \"2011-01-11T00:00:00\", \"amount_blnUSD\": 91.19, \"amount_blnRUB\": 2726.42}, {\"Date\": \"2011-01-10T00:00:00\", \"amount_blnUSD\": 88.69, \"amount_blnRUB\": 2827.1}, {\"Date\": \"2011-01-09T00:00:00\", \"amount_blnUSD\": 92.63, \"amount_blnRUB\": 2673.05}, {\"Date\": \"2011-01-08T00:00:00\", \"amount_blnUSD\": 92.7, \"amount_blnRUB\": 2566.04}, {\"Date\": \"2011-01-07T00:00:00\", \"amount_blnUSD\": 92.61, \"amount_blnRUB\": 2600.0}, {\"Date\": \"2011-01-06T00:00:00\", \"amount_blnUSD\": 92.54, \"amount_blnRUB\": 2597.55}, {\"Date\": \"2011-01-05T00:00:00\", \"amount_blnUSD\": 94.34, \"amount_blnRUB\": 2594.58}, {\"Date\": \"2011-01-04T00:00:00\", \"amount_blnUSD\": 91.8, \"amount_blnRUB\": 2609.66}, {\"Date\": \"2011-01-03T00:00:00\", \"amount_blnUSD\": 90.94, \"amount_blnRUB\": 2631.98}, {\"Date\": \"2011-01-02T00:00:00\", \"amount_blnUSD\": 90.15, \"amount_blnRUB\": 2674.53}, {\"Date\": \"2011-01-01T00:00:00\", \"amount_blnUSD\": 88.44, \"amount_blnRUB\": 2695.52}, {\"Date\": \"2010-01-12T00:00:00\", \"amount_blnUSD\": 88.22, \"amount_blnRUB\": 2761.96}, {\"Date\": \"2010-01-11T00:00:00\", \"amount_blnUSD\": 90.08, \"amount_blnRUB\": 2772.8}, {\"Date\": \"2010-01-10T00:00:00\", \"amount_blnUSD\": 89.54, \"amount_blnRUB\": 2722.15}, {\"Date\": \"2010-01-09T00:00:00\", \"amount_blnUSD\": 87.12, \"amount_blnRUB\": 2671.54}, {\"Date\": \"2010-01-08T00:00:00\", \"amount_blnUSD\": 88.24, \"amount_blnRUB\": 2663.76}, {\"Date\": \"2010-01-07T00:00:00\", \"amount_blnUSD\": 85.47, \"amount_blnRUB\": 2666.41}, {\"Date\": \"2010-01-06T00:00:00\", \"amount_blnUSD\": 85.8, \"amount_blnRUB\": 2616.54}, {\"Date\": \"2010-01-05T00:00:00\", \"amount_blnUSD\": 88.83, \"amount_blnRUB\": 2601.62}, {\"Date\": \"2010-01-04T00:00:00\", \"amount_blnUSD\": 89.58, \"amount_blnRUB\": 2630.27}, {\"Date\": \"2010-01-03T00:00:00\", \"amount_blnUSD\": 89.63, \"amount_blnRUB\": 2684.21}, {\"Date\": \"2010-01-02T00:00:00\", \"amount_blnUSD\": 90.63, \"amount_blnRUB\": 2757.89}, {\"Date\": \"2010-01-01T00:00:00\", \"amount_blnUSD\": 91.56, \"amount_blnRUB\": 2769.02}, {\"Date\": \"2009-01-12T00:00:00\", \"amount_blnUSD\": 92.89, \"amount_blnRUB\": 2769.84}, {\"Date\": \"2009-01-11T00:00:00\", \"amount_blnUSD\": 93.38, \"amount_blnRUB\": 2712.56}, {\"Date\": \"2009-01-10T00:00:00\", \"amount_blnUSD\": 91.86, \"amount_blnRUB\": 2764.37}, {\"Date\": \"2009-01-09T00:00:00\", \"amount_blnUSD\": 90.69, \"amount_blnRUB\": 2863.08}, {\"Date\": \"2009-01-08T00:00:00\", \"amount_blnUSD\": 90.02, \"amount_blnRUB\": 2858.7}, {\"Date\": \"2009-01-07T00:00:00\", \"amount_blnUSD\": 89.93, \"amount_blnRUB\": 2813.94}, {\"Date\": \"2009-01-06T00:00:00\", \"amount_blnUSD\": 89.86, \"amount_blnRUB\": 2784.14}, {\"Date\": \"2009-01-05T00:00:00\", \"amount_blnUSD\": 86.3, \"amount_blnRUB\": 2869.44}, {\"Date\": \"2009-01-04T00:00:00\", \"amount_blnUSD\": 85.71, \"amount_blnRUB\": 2915.21}, {\"Date\": \"2009-01-03T00:00:00\", \"amount_blnUSD\": 83.86, \"amount_blnRUB\": 2995.51}, {\"Date\": \"2009-01-02T00:00:00\", \"amount_blnUSD\": 84.47, \"amount_blnRUB\": 2991.5}, {\"Date\": \"2009-01-01T00:00:00\", \"amount_blnUSD\": 87.97, \"amount_blnRUB\": 2584.49}, {\"Date\": \"2008-01-12T00:00:00\", \"amount_blnUSD\": 76.38, \"amount_blnRUB\": 2108.46}, {\"Date\": \"2008-01-11T00:00:00\", \"amount_blnUSD\": 62.82, \"amount_blnRUB\": 1667.48}, {\"Date\": \"2008-01-10T00:00:00\", \"amount_blnUSD\": 48.68, \"amount_blnRUB\": 1228.88}, {\"Date\": \"2008-01-09T00:00:00\", \"amount_blnUSD\": 31.92, \"amount_blnRUB\": 784.51}, {\"Date\": \"2008-01-08T00:00:00\", \"amount_blnUSD\": 32.69, \"amount_blnRUB\": 766.48}, {\"Date\": \"2008-01-07T00:00:00\", \"amount_blnUSD\": 32.85, \"amount_blnRUB\": 770.56}, {\"Date\": \"2008-01-06T00:00:00\", \"amount_blnUSD\": 32.6, \"amount_blnRUB\": 773.93}, {\"Date\": \"2008-01-05T00:00:00\", \"amount_blnUSD\": 32.72, \"amount_blnRUB\": 773.82}, {\"Date\": \"2008-01-04T00:00:00\", \"amount_blnUSD\": 32.9, \"amount_blnRUB\": 773.57}, {\"Date\": \"2008-01-03T00:00:00\", \"amount_blnUSD\": 32.22, \"amount_blnRUB\": 777.03}, {\"Date\": \"2008-01-02T00:00:00\", \"amount_blnUSD\": 32.0, \"amount_blnRUB\": 783.31}]}}, {\"mode\": \"vega-lite\"});\n",
       "</script>"
      ],
      "text/plain": [
       "alt.Chart(...)"
      ]
     },
     "execution_count": 32,
     "metadata": {},
     "output_type": "execute_result"
    }
   ],
   "source": [
    "import altair as alt\n",
    "\n",
    "alt.Chart(df).mark_line(point=True).encode(x='Date:N', y='amount_blnUSD:Q')"
   ]
  },
  {
   "cell_type": "code",
   "execution_count": 29,
   "metadata": {},
   "outputs": [
    {
     "data": {
      "text/html": [
       "<div>\n",
       "<style scoped>\n",
       "    .dataframe tbody tr th:only-of-type {\n",
       "        vertical-align: middle;\n",
       "    }\n",
       "\n",
       "    .dataframe tbody tr th {\n",
       "        vertical-align: top;\n",
       "    }\n",
       "\n",
       "    .dataframe thead th {\n",
       "        text-align: right;\n",
       "    }\n",
       "</style>\n",
       "<table border=\"1\" class=\"dataframe\">\n",
       "  <thead>\n",
       "    <tr style=\"text-align: right;\">\n",
       "      <th></th>\n",
       "      <th>Date</th>\n",
       "      <th>amount_blnUSD</th>\n",
       "      <th>amount_blnRUB</th>\n",
       "    </tr>\n",
       "  </thead>\n",
       "  <tbody>\n",
       "    <tr>\n",
       "      <th>0</th>\n",
       "      <td>2023-01-02</td>\n",
       "      <td>155.30</td>\n",
       "      <td>10807.60</td>\n",
       "    </tr>\n",
       "    <tr>\n",
       "      <th>1</th>\n",
       "      <td>2023-01-01</td>\n",
       "      <td>148.35</td>\n",
       "      <td>10434.58</td>\n",
       "    </tr>\n",
       "    <tr>\n",
       "      <th>2</th>\n",
       "      <td>2022-01-12</td>\n",
       "      <td>186.49</td>\n",
       "      <td>11389.51</td>\n",
       "    </tr>\n",
       "    <tr>\n",
       "      <th>3</th>\n",
       "      <td>2022-01-11</td>\n",
       "      <td>184.84</td>\n",
       "      <td>11374.08</td>\n",
       "    </tr>\n",
       "    <tr>\n",
       "      <th>4</th>\n",
       "      <td>2022-01-10</td>\n",
       "      <td>187.97</td>\n",
       "      <td>10792.19</td>\n",
       "    </tr>\n",
       "    <tr>\n",
       "      <th>...</th>\n",
       "      <td>...</td>\n",
       "      <td>...</td>\n",
       "      <td>...</td>\n",
       "    </tr>\n",
       "    <tr>\n",
       "      <th>176</th>\n",
       "      <td>2008-01-06</td>\n",
       "      <td>32.60</td>\n",
       "      <td>773.93</td>\n",
       "    </tr>\n",
       "    <tr>\n",
       "      <th>177</th>\n",
       "      <td>2008-01-05</td>\n",
       "      <td>32.72</td>\n",
       "      <td>773.82</td>\n",
       "    </tr>\n",
       "    <tr>\n",
       "      <th>178</th>\n",
       "      <td>2008-01-04</td>\n",
       "      <td>32.90</td>\n",
       "      <td>773.57</td>\n",
       "    </tr>\n",
       "    <tr>\n",
       "      <th>179</th>\n",
       "      <td>2008-01-03</td>\n",
       "      <td>32.22</td>\n",
       "      <td>777.03</td>\n",
       "    </tr>\n",
       "    <tr>\n",
       "      <th>180</th>\n",
       "      <td>2008-01-02</td>\n",
       "      <td>32.00</td>\n",
       "      <td>783.31</td>\n",
       "    </tr>\n",
       "  </tbody>\n",
       "</table>\n",
       "<p>181 rows × 3 columns</p>\n",
       "</div>"
      ],
      "text/plain": [
       "          Date  amount_blnUSD  amount_blnRUB\n",
       "0   2023-01-02         155.30       10807.60\n",
       "1   2023-01-01         148.35       10434.58\n",
       "2   2022-01-12         186.49       11389.51\n",
       "3   2022-01-11         184.84       11374.08\n",
       "4   2022-01-10         187.97       10792.19\n",
       "..         ...            ...            ...\n",
       "176 2008-01-06          32.60         773.93\n",
       "177 2008-01-05          32.72         773.82\n",
       "178 2008-01-04          32.90         773.57\n",
       "179 2008-01-03          32.22         777.03\n",
       "180 2008-01-02          32.00         783.31\n",
       "\n",
       "[181 rows x 3 columns]"
      ]
     },
     "execution_count": 29,
     "metadata": {},
     "output_type": "execute_result"
    }
   ],
   "source": [
    "df"
   ]
  },
  {
   "cell_type": "code",
   "execution_count": null,
   "metadata": {},
   "outputs": [],
   "source": []
  }
 ],
 "metadata": {
  "kernelspec": {
   "display_name": "fnb-env",
   "language": "python",
   "name": "python3"
  },
  "language_info": {
   "codemirror_mode": {
    "name": "ipython",
    "version": 3
   },
   "file_extension": ".py",
   "mimetype": "text/x-python",
   "name": "python",
   "nbconvert_exporter": "python",
   "pygments_lexer": "ipython3",
   "version": "3.9.13"
  },
  "orig_nbformat": 4,
  "vscode": {
   "interpreter": {
    "hash": "06a75d7ceda0fca215aedae2d0066f4a8ad05300abe2a775bab12da4645a4549"
   }
  }
 },
 "nbformat": 4,
 "nbformat_minor": 2
}
