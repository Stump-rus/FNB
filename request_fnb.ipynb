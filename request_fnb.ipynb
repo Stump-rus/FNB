{
 "cells": [
  {
   "cell_type": "code",
   "execution_count": 3,
   "metadata": {},
   "outputs": [
    {
     "name": "stderr",
     "output_type": "stream",
     "text": [
      "C:\\Users\\lenovo\\AppData\\Local\\Temp\\ipykernel_1904\\3328736854.py:9: FutureWarning: The default value of regex will change from True to False in a future version.\n",
      "  df['amount_blnRUB'] = df['amount_blnRUB'].str.replace(r'\\D+', '')\n"
     ]
    },
    {
     "data": {
      "text/html": [
       "<div>\n",
       "<style scoped>\n",
       "    .dataframe tbody tr th:only-of-type {\n",
       "        vertical-align: middle;\n",
       "    }\n",
       "\n",
       "    .dataframe tbody tr th {\n",
       "        vertical-align: top;\n",
       "    }\n",
       "\n",
       "    .dataframe thead th {\n",
       "        text-align: right;\n",
       "    }\n",
       "</style>\n",
       "<table border=\"1\" class=\"dataframe\">\n",
       "  <thead>\n",
       "    <tr style=\"text-align: right;\">\n",
       "      <th></th>\n",
       "      <th>Date</th>\n",
       "      <th>amount_blnUSD</th>\n",
       "      <th>amount_blnRUB</th>\n",
       "    </tr>\n",
       "  </thead>\n",
       "  <tbody>\n",
       "    <tr>\n",
       "      <th>0</th>\n",
       "      <td>01.02.2023</td>\n",
       "      <td>155.30</td>\n",
       "      <td>10807.60</td>\n",
       "    </tr>\n",
       "    <tr>\n",
       "      <th>1</th>\n",
       "      <td>01.01.2023</td>\n",
       "      <td>148.35</td>\n",
       "      <td>10434.58</td>\n",
       "    </tr>\n",
       "    <tr>\n",
       "      <th>2</th>\n",
       "      <td>01.12.2022</td>\n",
       "      <td>186.49</td>\n",
       "      <td>11389.51</td>\n",
       "    </tr>\n",
       "    <tr>\n",
       "      <th>3</th>\n",
       "      <td>01.11.2022</td>\n",
       "      <td>184.84</td>\n",
       "      <td>11374.08</td>\n",
       "    </tr>\n",
       "    <tr>\n",
       "      <th>4</th>\n",
       "      <td>01.10.2022</td>\n",
       "      <td>187.97</td>\n",
       "      <td>10792.19</td>\n",
       "    </tr>\n",
       "    <tr>\n",
       "      <th>...</th>\n",
       "      <td>...</td>\n",
       "      <td>...</td>\n",
       "      <td>...</td>\n",
       "    </tr>\n",
       "    <tr>\n",
       "      <th>176</th>\n",
       "      <td>01.06.2008</td>\n",
       "      <td>32.60</td>\n",
       "      <td>773.93</td>\n",
       "    </tr>\n",
       "    <tr>\n",
       "      <th>177</th>\n",
       "      <td>01.05.2008</td>\n",
       "      <td>32.72</td>\n",
       "      <td>773.82</td>\n",
       "    </tr>\n",
       "    <tr>\n",
       "      <th>178</th>\n",
       "      <td>01.04.2008</td>\n",
       "      <td>32.90</td>\n",
       "      <td>773.57</td>\n",
       "    </tr>\n",
       "    <tr>\n",
       "      <th>179</th>\n",
       "      <td>01.03.2008</td>\n",
       "      <td>32.22</td>\n",
       "      <td>777.03</td>\n",
       "    </tr>\n",
       "    <tr>\n",
       "      <th>180</th>\n",
       "      <td>01.02.2008</td>\n",
       "      <td>32.00</td>\n",
       "      <td>783.31</td>\n",
       "    </tr>\n",
       "  </tbody>\n",
       "</table>\n",
       "<p>181 rows × 3 columns</p>\n",
       "</div>"
      ],
      "text/plain": [
       "           Date  amount_blnUSD  amount_blnRUB\n",
       "0    01.02.2023         155.30       10807.60\n",
       "1    01.01.2023         148.35       10434.58\n",
       "2    01.12.2022         186.49       11389.51\n",
       "3    01.11.2022         184.84       11374.08\n",
       "4    01.10.2022         187.97       10792.19\n",
       "..          ...            ...            ...\n",
       "176  01.06.2008          32.60         773.93\n",
       "177  01.05.2008          32.72         773.82\n",
       "178  01.04.2008          32.90         773.57\n",
       "179  01.03.2008          32.22         777.03\n",
       "180  01.02.2008          32.00         783.31\n",
       "\n",
       "[181 rows x 3 columns]"
      ]
     },
     "execution_count": 3,
     "metadata": {},
     "output_type": "execute_result"
    }
   ],
   "source": [
    "import pandas as pd\n",
    "from urllib.request import Request, urlopen\n",
    "req = Request(url='https://minfin.gov.ru/ru/perfomance/nationalwealthfund/statistics?id_57=27068-obem_fonda_natsionalnogo_blagosostoyaniya', headers={'User-Agent': 'Mozilla/5.0'})\n",
    "webpage = urlopen(req).read()\n",
    "df_list = pd.read_html(webpage)\n",
    "df = pd.DataFrame(df_list[0])\n",
    "df = df.rename(columns={df.columns[0]: \"Date\", df.columns[1]: \"amount_blnUSD\",df.columns[2]: 'amount_blnRUB'})\n",
    "df = df.drop(columns=df.columns[3])\n",
    "df['amount_blnRUB'] = df['amount_blnRUB'].str.replace(r'\\D+', '')\n",
    "df['amount_blnRUB'] = df['amount_blnRUB'].astype(int) / 100\n",
    "df['amount_blnUSD'] = df['amount_blnUSD'].astype(int) / 100\n",
    "df"
   ]
  },
  {
   "cell_type": "code",
   "execution_count": 10,
   "metadata": {},
   "outputs": [],
   "source": [
    "from pathlib import Path  \n",
    "filepath = Path('C:/Users/lenovo/python/FNB/fnb.csv')  \n",
    "filepath.parent.mkdir(parents=True, exist_ok=True)  \n",
    "df.to_csv(filepath)"
   ]
  },
  {
   "cell_type": "code",
   "execution_count": null,
   "metadata": {},
   "outputs": [],
   "source": []
  }
 ],
 "metadata": {
  "kernelspec": {
   "display_name": "fnb-env",
   "language": "python",
   "name": "python3"
  },
  "language_info": {
   "codemirror_mode": {
    "name": "ipython",
    "version": 3
   },
   "file_extension": ".py",
   "mimetype": "text/x-python",
   "name": "python",
   "nbconvert_exporter": "python",
   "pygments_lexer": "ipython3",
   "version": "3.9.13"
  },
  "orig_nbformat": 4,
  "vscode": {
   "interpreter": {
    "hash": "06a75d7ceda0fca215aedae2d0066f4a8ad05300abe2a775bab12da4645a4549"
   }
  }
 },
 "nbformat": 4,
 "nbformat_minor": 2
}
